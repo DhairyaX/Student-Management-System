{
 "cells": [
  {
   "cell_type": "code",
   "execution_count": 2,
   "id": "fc1b8fdd-c126-4490-9d09-01eea4591735",
   "metadata": {},
   "outputs": [
    {
     "name": "stdout",
     "output_type": "stream",
     "text": [
      "Defaulting to user installation because normal site-packages is not writeable\n",
      "Requirement already satisfied: mysql-connector-python in c:\\users\\dhairya\\appdata\\roaming\\python\\python313\\site-packages (9.2.0)\n",
      "Note: you may need to restart the kernel to use updated packages.\n"
     ]
    }
   ],
   "source": [
    "pip install mysql-connector-python"
   ]
  },
  {
   "cell_type": "code",
   "execution_count": 3,
   "id": "b01fbd76-22e7-489c-927f-bb0173b673ee",
   "metadata": {},
   "outputs": [
    {
     "name": "stdout",
     "output_type": "stream",
     "text": [
      "<mysql.connector.connection.MySQLConnection object at 0x00000255D4223620>\n"
     ]
    }
   ],
   "source": [
    "import mysql.connector\n",
    "\n",
    "con = mysql.connector.connect(host='localhost', user='root', password='password', database='dcebatch4')\n",
    "print(con)\n"
   ]
  },
  {
   "cell_type": "code",
   "execution_count": 27,
   "id": "27fd823f",
   "metadata": {},
   "outputs": [
    {
     "name": "stdout",
     "output_type": "stream",
     "text": [
      "********************Welcome to my app********************\n",
      "1. Signin\n",
      "2. Signup\n",
      "3. Display all\n",
      "4.Search\n",
      "5. Exit\n"
     ]
    },
    {
     "name": "stdin",
     "output_type": "stream",
     "text": [
      "Enter your choice:  3\n"
     ]
    },
    {
     "name": "stdout",
     "output_type": "stream",
     "text": [
      "2001\tdhairya\tabc223\taiml\n",
      "2002\tkrish\tabd223\taiml\n",
      "1. Signin\n",
      "2. Signup\n",
      "3. Display all\n",
      "4.Search\n",
      "5. Exit\n"
     ]
    },
    {
     "name": "stdin",
     "output_type": "stream",
     "text": [
      "Enter your choice:  5\n"
     ]
    }
   ],
   "source": [
    "def signup(data):\n",
    "    try:\n",
    "        con = mysql.connector.connect(host='localhost', user='root', password='password', database='dcebatch4')\n",
    "        cur= con.cursor()\n",
    "        cur.execute(f'select * from student_record where roll = {data[0]}')\n",
    "        if cur.fetchone():\n",
    "            con.close()\n",
    "            return False\n",
    "        else:\n",
    "            myquery = 'INSERT INTO student_record(roll, name,password,branch,admin_year,per_10,per_12) VALUES (%s,%s,%s,%s,%s,%s,%s)'\n",
    "            cur.execute(myquery,data)\n",
    "            con.commit()\n",
    "            con.close()\n",
    "            return True\n",
    "    except Exception as e:\n",
    "        print(e)\n",
    "\n",
    "def signin(roll,password):\n",
    "  try:\n",
    "    con = mysql.connector.connect(host='localhost', user='root', password='password', database='dcebatch4')\n",
    "    cur= con.cursor()\n",
    "    data = cur.fetchone()\n",
    "    if cur.fetchone():\n",
    "        con.close()\n",
    "        return False\n",
    "    else:\n",
    "        cur.execute(f'select * from student_record where roll={roll} and password={password}')\n",
    "        con.close()\n",
    "        return True\n",
    "  except Exception as e:\n",
    "    print(e)\n",
    "\n",
    "\n",
    "def search(roll):\n",
    "    try:\n",
    "        con = mysql.connector.connect(host='localhost', user='root', password='password', database='dcebatch4')\n",
    "        cur= con.cursor()\n",
    "        cur.execute(f'select * from student_record where roll = {roll}')\n",
    "        result = cur.fetchone()\n",
    "        if result:\n",
    "            con.close()\n",
    "            return result\n",
    "        else:\n",
    "            con.close()\n",
    "            return ()\n",
    "            \n",
    "    except Exception as e:\n",
    "        print(e)\n",
    "\n",
    "\n",
    "def displayall():\n",
    "  try:\n",
    "    con = mysql.connector.connect(host='localhost', user='root', password='password', database='dcebatch4')\n",
    "    cur = con.cursor()\n",
    "    cur.execute('select * from student_record')\n",
    "    result=  cur.fetchall()\n",
    "    if result:\n",
    "        con.close()\n",
    "        return result\n",
    "    else:\n",
    "        con.close()\n",
    "        return ()\n",
    "  except Exception as e:\n",
    "    print(e)\n",
    "\n",
    "\n",
    "print('*'*20 + \"Welcome to my app\" + '*'*20)\n",
    "while True:\n",
    "  print(\"1. Signin\\n2. Signup\\n3. Display all\\n4.Search\\n5. Exit\")\n",
    "  ch = int(input(\"Enter your choice: \"))\n",
    "  if ch == 1:\n",
    "    roll = input(\"Enter your rollnumber: \")\n",
    "    password = input(\"Enter your password: \")\n",
    "    #con = mysql.connector.connect(host='localhost', user='root', password='password', database='dcebatch4')\n",
    "    # cur = con.cursor()\n",
    "    # cur.execute(f'select * from student_record where roll={roll} and password=\"{password}\"')\n",
    "    # data = cur.fetchone()\n",
    "    if signin(roll,password):\n",
    "      print(\"Login Success\")\n",
    "    else:\n",
    "      print(\"Login Failed\")\n",
    "  elif ch==2:\n",
    "    roll=int(input(\"Enter your roll number: \"))\n",
    "    name = input(\"Enter your name: \")\n",
    "    password = input(\"Enter your password: \")\n",
    "    branch = input(\"Enter your branch: \")\n",
    "    admin_year = input(\"Enter your admission year: \")\n",
    "    per_10 = int(input(\"Enter your 10th percentage: \"))\n",
    "    per_12 = int(input(\"Enter your 12th percentage: \"))\n",
    "    if (signup((roll, name, password, branch, admin_year, per_10, per_12))):\n",
    "      print(\"Signup Success\")\n",
    "    else:\n",
    "      print(\"Student already exists\")\n",
    "  elif ch==3:\n",
    "    info = displayall()\n",
    "    for record in info:\n",
    "        print(f\"{record[0]}\\t{record[1]}\\t{record[2]}\\t{record[3]}\")\n",
    "  elif ch==4:\n",
    "    roll = int(input(\"Enter your roll number: \"))\n",
    "    info = search(roll)\n",
    "    print(info)\n",
    "  elif ch==5:\n",
    "    break\n",
    "  else:\n",
    "    print(\"Invalid choice\")"
   ]
  },
  {
   "cell_type": "code",
   "execution_count": null,
   "id": "a410120a",
   "metadata": {},
   "outputs": [],
   "source": []
  },
  {
   "cell_type": "code",
   "execution_count": null,
   "id": "ea7f76a7",
   "metadata": {},
   "outputs": [
    {
     "name": "stdout",
     "output_type": "stream",
     "text": [
      "[('dcebatch4',), ('information_schema',), ('m1',), ('mysql',), ('performance_schema',), ('sakila',), ('sys',)]\n"
     ]
    }
   ],
   "source": [
    "try:\n",
    "    cur = con.cursor()\n",
    "    cur.execute('show databases;')\n",
    "    print(cur.fetchall())\n",
    "    con.close()\n",
    "except Exception as e:\n",
    "    print(e)\n"
   ]
  },
  {
   "cell_type": "code",
   "execution_count": null,
   "id": "ba05da68-dec3-4b11-b05e-481d1aeba8b6",
   "metadata": {},
   "outputs": [
    {
     "ename": "SyntaxError",
     "evalue": "expected ':' (2361236044.py, line 1)",
     "output_type": "error",
     "traceback": [
      "\u001b[1;36m  Cell \u001b[1;32mIn[3], line 1\u001b[1;36m\u001b[0m\n\u001b[1;33m    def signup(stuid,name,password,branch){\u001b[0m\n\u001b[1;37m                                          ^\u001b[0m\n\u001b[1;31mSyntaxError\u001b[0m\u001b[1;31m:\u001b[0m expected ':'\n"
     ]
    }
   ],
   "source": [
    "def signup(stuid,name,password,branch){\n",
    "    try:\n",
    "        con = mysql.connector.connect(host ='localhost', user='root',password='password',database='dcebatch4')\n",
    "        print(\"connected\")\n",
    "    if con.is_connected():\n",
    "        cur = con.cursor()\n",
    "        cur.execute(' insert into student values(%s,%s,%s,%s)',(stuid,name,password,branch))\n",
    "        #print(cur.fetchall())\n",
    "        con.commit()\n",
    "        cur.close()\n",
    "        con.close()\n",
    "        \n",
    "    # except Exception as e:\n",
    "    #     print(e)\n",
    "}\n",
    "\n",
    "signup(1,'sachin','redhat','cse')"
   ]
  },
  {
   "cell_type": "code",
   "execution_count": null,
   "id": "f551f215",
   "metadata": {},
   "outputs": [],
   "source": []
  }
 ],
 "metadata": {
  "kernelspec": {
   "display_name": "Python 3 (ipykernel)",
   "language": "python",
   "name": "python3"
  },
  "language_info": {
   "codemirror_mode": {
    "name": "ipython",
    "version": 3
   },
   "file_extension": ".py",
   "mimetype": "text/x-python",
   "name": "python",
   "nbconvert_exporter": "python",
   "pygments_lexer": "ipython3",
   "version": "3.13.1"
  }
 },
 "nbformat": 4,
 "nbformat_minor": 5
}
